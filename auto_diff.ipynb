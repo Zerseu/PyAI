{
 "cells": [
  {
   "cell_type": "markdown",
   "metadata": {},
   "source": [
    "# Automatic Differentiation\n",
    "\n",
    "This is companion to the medium article on automatic differentiation"
   ]
  },
  {
   "cell_type": "markdown",
   "metadata": {},
   "source": [
    "## Define the computational graph"
   ]
  },
  {
   "cell_type": "code",
   "execution_count": 1,
   "metadata": {},
   "outputs": [],
   "source": [
    "import numpy as np\n",
    "\n",
    "class Graph():\n",
    "    \"\"\" Computational graph class. \n",
    "    Initilizes a global variable _g that describes the graph.\n",
    "    Each graph consists of a set of\n",
    "        1. operators\n",
    "        2. variables\n",
    "        3. constants\n",
    "        4. placeholders\n",
    "    \"\"\"\n",
    "    def __init__(self):\n",
    "        self.operators = set()\n",
    "        self.constants = set()\n",
    "        self.variables = set()\n",
    "        self.placeholders = set()\n",
    "        global _g\n",
    "        _g = self\n",
    "        \n",
    "    def reset_counts(self, root):\n",
    "        if hasattr(root, 'count'):\n",
    "            root.count = 0\n",
    "        else:\n",
    "            for child in root.__subclasses__():\n",
    "                self.reset_counts(child)\n",
    "\n",
    "    def reset_session(self):\n",
    "        try:\n",
    "            del _g\n",
    "        except:\n",
    "            pass\n",
    "        self.reset_counts(Node)\n",
    "        \n",
    "    def __enter__(self):\n",
    "        return self\n",
    "    \n",
    "    def __exit__(self, exc_type, exc_value, traceback):\n",
    "        self.reset_session()"
   ]
  },
  {
   "cell_type": "markdown",
   "metadata": {},
   "source": [
    "## Define the graph nodes. \n",
    "\n",
    "The operator node is virtual, it is never called. Only subclasses of it containing actual operations should ever be called."
   ]
  },
  {
   "cell_type": "markdown",
   "metadata": {},
   "source": [
    "### Make a basic Node class to inherit from\n",
    "\n",
    "This won't do anything other than allow us to check if in object is a Graph node or not"
   ]
  },
  {
   "cell_type": "code",
   "execution_count": 2,
   "metadata": {},
   "outputs": [],
   "source": [
    "class Node:\n",
    "    def __init__(self):\n",
    "        pass"
   ]
  },
  {
   "cell_type": "markdown",
   "metadata": {},
   "source": [
    "### Define Variables, Constants, Placeholders, and Operators"
   ]
  },
  {
   "cell_type": "markdown",
   "metadata": {},
   "source": [
    "#### Placeholders"
   ]
  },
  {
   "cell_type": "code",
   "execution_count": 3,
   "metadata": {},
   "outputs": [],
   "source": [
    "class Placeholder(Node):\n",
    "    \"\"\"An placeholder node in the computational graph. This holds\n",
    "    a node, and awaits further input at computation time.\n",
    "    Args: \n",
    "        name: defaults to \"Plc/\"+count\n",
    "        dtype: the type that the node holds, float, int, etc.\n",
    "    \"\"\"\n",
    "    count = 0\n",
    "    def __init__(self, name, dtype=float):\n",
    "        _g.placeholders.add(self)\n",
    "        self.value = None\n",
    "        self.gradient = None\n",
    "        self.name = f\"Plc/{Placeholder.count}\" if name is None else name\n",
    "        Placeholder.count += 1\n",
    "        \n",
    "    def __repr__(self):\n",
    "        return f\"Placeholder: name:{self.name}, value:{self.value}\""
   ]
  },
  {
   "cell_type": "markdown",
   "metadata": {},
   "source": [
    "#### Constants"
   ]
  },
  {
   "cell_type": "code",
   "execution_count": 4,
   "metadata": {},
   "outputs": [],
   "source": [
    "class Constant(Node):\n",
    "    \"\"\"An constant node in the computational graph.\n",
    "    Args: \n",
    "        name: defaults to \"const/\"+count\n",
    "        value: a property protected value that prevents user \n",
    "               from reassigning value\n",
    "    \"\"\"\n",
    "    count = 0\n",
    "    def __init__(self, value, name=None):\n",
    "        _g.constants.add(self)\n",
    "        self._value = value\n",
    "        self.gradient = None\n",
    "        self.name = f\"Const/{Constant.count}\" if name is None else name\n",
    "        Constant.count += 1\n",
    "        \n",
    "    def __repr__(self):\n",
    "        return f\"Constant: name:{self.name}, value:{self.value}\"\n",
    "    \n",
    "    @property\n",
    "    def value(self):\n",
    "        return self._value\n",
    "    \n",
    "    @value.setter\n",
    "    def value(self):\n",
    "        raise ValueError(\"Cannot reassign constant\")"
   ]
  },
  {
   "cell_type": "markdown",
   "metadata": {},
   "source": [
    "#### Variables"
   ]
  },
  {
   "cell_type": "code",
   "execution_count": 5,
   "metadata": {},
   "outputs": [],
   "source": [
    "class Variable(Node):\n",
    "    \"\"\"An variable node in the computational graph. Variables are\n",
    "    automatically tracked during graph computation.\n",
    "    Args: \n",
    "        name: defaults to \"var/\"+count\n",
    "        value: a mutable value\n",
    "    \"\"\"\n",
    "    count = 0\n",
    "    def __init__(self, value, name=None):\n",
    "        _g.variables.add(self)\n",
    "        self.value = value\n",
    "        self.gradient = None\n",
    "        self.name = f\"Var/{Variable.count}\" if name is None else name\n",
    "        Variable.count += 1\n",
    "        \n",
    "    def __repr__(self):\n",
    "        return f\"Variable: name:{self.name}, value:{self.value}\""
   ]
  },
  {
   "cell_type": "markdown",
   "metadata": {},
   "source": [
    "#### Define Operators\n",
    "\n",
    "This way, we can provide addition and multiplication as dunder functions, and overload the python operators '+' and '*'."
   ]
  },
  {
   "cell_type": "code",
   "execution_count": 6,
   "metadata": {},
   "outputs": [],
   "source": [
    "class Operator(Node):\n",
    "    \"\"\"An operator node in the computational graph.\n",
    "    Args: \n",
    "        name: defaults to \"operator name/\"+count\n",
    "    \"\"\"\n",
    "    def __init__(self, name='Operator'):\n",
    "        _g.operators.add(self)\n",
    "        self.value = None\n",
    "        self.inputs = []\n",
    "        self.gradient = None\n",
    "        self.name = name\n",
    "    \n",
    "    def __repr__(self):\n",
    "        return f\"Operator: name:{self.name}\""
   ]
  },
  {
   "cell_type": "markdown",
   "metadata": {},
   "source": [
    "### Create some actual operators that do things"
   ]
  },
  {
   "cell_type": "code",
   "execution_count": 7,
   "metadata": {},
   "outputs": [],
   "source": [
    "class add(Operator):\n",
    "    count = 0\n",
    "    \"\"\"Binary addition operation.\"\"\"\n",
    "    def __init__(self, a, b, name=None):\n",
    "        super().__init__(name)\n",
    "        self.inputs=[a, b]\n",
    "        self.name = f'add/{add.count}' if name is None else name\n",
    "        add.count += 1\n",
    "        \n",
    "    def forward(self, a, b):\n",
    "        return a+b\n",
    "    \n",
    "    def backward(self, a, b, dout):\n",
    "        return dout, dout\n",
    "\n",
    "class multiply(Operator):\n",
    "    count = 0\n",
    "    \"\"\"Binary multiplication operation.\"\"\"\n",
    "    def __init__(self, a, b, name=None):\n",
    "        super().__init__(name)\n",
    "        self.inputs=[a, b]\n",
    "        self.name = f'mul/{multiply.count}' if name is None else name\n",
    "        multiply.count += 1\n",
    "        \n",
    "    def forward(self, a, b):\n",
    "        return a*b\n",
    "    \n",
    "    def backward(self, a, b, dout):\n",
    "        return dout*b, dout*a\n",
    "    \n",
    "class divide(Operator):\n",
    "    count = 0\n",
    "    \"\"\"Binary division operation.\"\"\"\n",
    "    def __init__(self, a, b, name=None):\n",
    "        super().__init__(name)\n",
    "        self.inputs=[a, b]\n",
    "        self.name = f'div/{divide.count}' if name is None else name\n",
    "        divide.count += 1\n",
    "   \n",
    "    def forward(self, a, b):\n",
    "        return a/b\n",
    "    \n",
    "    def backward(self, a, b, dout):\n",
    "        return dout/b, dout*a/np.power(b, 2)\n",
    "    \n",
    "    \n",
    "class power(Operator):\n",
    "    count = 0\n",
    "    \"\"\"Binary exponentiation operation.\"\"\"\n",
    "    def __init__(self, a, b, name=None):\n",
    "        super().__init__(name)\n",
    "        self.inputs=[a, b]\n",
    "        self.name = f'pow/{power.count}' if name is None else name\n",
    "        power.count += 1\n",
    "   \n",
    "    def forward(self, a, b):\n",
    "        return np.power(a, b)\n",
    "    \n",
    "    def backward(self, a, b, dout):\n",
    "        return dout*b*np.power(a, (b-1)), dout*np.log(a)*np.power(a, b)\n",
    "    \n",
    "class matmul(Operator):\n",
    "    count = 0\n",
    "    \"\"\"Binary multiplication operation.\"\"\"\n",
    "    def __init__(self, a, b, name=None):\n",
    "        super().__init__(name)\n",
    "        self.inputs=[a, b]\n",
    "        self.name = f'matmul/{matmul.count}' if name is None else name\n",
    "        matmul.count += 1\n",
    "        \n",
    "    def forward(self, a, b):\n",
    "        return a@b\n",
    "    \n",
    "    def backward(self, a, b, dout):\n",
    "        return dout@b.T, a.T@dout"
   ]
  },
  {
   "cell_type": "markdown",
   "metadata": {},
   "source": [
    "## For convenience, overload all of these"
   ]
  },
  {
   "cell_type": "code",
   "execution_count": 8,
   "metadata": {},
   "outputs": [],
   "source": [
    "def node_wrapper(func, self, other):\n",
    "    if isinstance(other, Node):\n",
    "        return func(self, other)\n",
    "    if isinstance(other, float) or isinstance(other, int):\n",
    "        return func(self, Constant(other))\n",
    "    raise TypeError(\"Incompatible types.\")\n",
    "\n",
    "Node.__add__ = lambda self, other: node_wrapper(add, self, other)\n",
    "Node.__mul__ = lambda self, other: node_wrapper(multiply, self, other)\n",
    "Node.__div__ = lambda self, other: node_wrapper(divide, self, other)\n",
    "Node.__neg__ = lambda self: node_wrapper(multiply, self, Constant(-1))\n",
    "Node.__pow__ = lambda self, other: node_wrapper(power, self, other)\n",
    "Node.__matmul__ = lambda self, other: node_wrapper(matmul, self, other)"
   ]
  },
  {
   "cell_type": "markdown",
   "metadata": {},
   "source": [
    "## Test it out!"
   ]
  },
  {
   "cell_type": "code",
   "execution_count": 9,
   "metadata": {},
   "outputs": [],
   "source": [
    "with Graph() as g:\n",
    "    x = Variable(1.3)\n",
    "    y = Variable(0.9)\n",
    "    z = x*y+5"
   ]
  },
  {
   "cell_type": "code",
   "execution_count": 10,
   "metadata": {},
   "outputs": [
    {
     "name": "stdout",
     "output_type": "stream",
     "text": [
      "{Constant: name:Const/0, value:5}\n",
      "{Variable: name:Var/0, value:1.3, Variable: name:Var/1, value:0.9}\n",
      "{Operator: name:mul/0, Operator: name:add/0}\n"
     ]
    }
   ],
   "source": [
    "print(g.constants)\n",
    "print(g.variables)\n",
    "print(g.operators)"
   ]
  },
  {
   "cell_type": "markdown",
   "metadata": {},
   "source": [
    "# Autograd"
   ]
  },
  {
   "cell_type": "code",
   "execution_count": 11,
   "metadata": {},
   "outputs": [],
   "source": [
    "def topological_sort(head_node=None, graph=_g):\n",
    "    \"\"\"Performs topological sort of all nodes prior to and \n",
    "    including the head_node. \n",
    "    Args:\n",
    "        graph: the computational graph. This is the global value by default\n",
    "        head_node: last node in the forward pass. The \"result\" of the graph.\n",
    "    Returns:\n",
    "        a sorted array of graph nodes.\n",
    "    \"\"\"\n",
    "    vis = set()\n",
    "    ordering = []\n",
    "    \n",
    "    def _dfs(node):\n",
    "        if node not in vis:\n",
    "            vis.add(node)\n",
    "            if isinstance(node, Operator):\n",
    "                for input_node in node.inputs:\n",
    "                    _dfs(input_node)\n",
    "            ordering.append(node)\n",
    "            \n",
    "    if head_node is None:\n",
    "        for node in graph.operators:\n",
    "            _dfs(node)\n",
    "    else:\n",
    "        _dfs(head_node)\n",
    "        \n",
    "    return ordering"
   ]
  },
  {
   "cell_type": "code",
   "execution_count": 12,
   "metadata": {},
   "outputs": [],
   "source": [
    "def forward_pass(order, feed_dict={}):\n",
    "    \"\"\" Performs the forward pass, returning the output of the graph.\n",
    "    Args:\n",
    "        order: a topologically sorted array of nodes\n",
    "        feed_dict: a dictionary values for placeholders.\n",
    "    Returns:\n",
    "        1. the final result of the forward pass.\n",
    "        2. directly edits the graph to fill in its current values.\n",
    "    \"\"\"\n",
    "    for node in order:\n",
    "        \n",
    "        if isinstance(node, Placeholder):\n",
    "            node.value = feed_dict[node.name]\n",
    "                    \n",
    "        elif isinstance(node, Operator):\n",
    "            node.value = node.forward(*[prev_node.value for prev_node in node.inputs])\n",
    "\n",
    "    return order[-1].value"
   ]
  },
  {
   "cell_type": "code",
   "execution_count": 13,
   "metadata": {},
   "outputs": [],
   "source": [
    "def backward_pass(order, target_node=None):\n",
    "    \"\"\" Perform the backward pass to retrieve gradients.\n",
    "    Args:\n",
    "        order: a topologically sorted array of graph nodes.\n",
    "               by default, this assigns the graident of the final node to 1\n",
    "    Returns:\n",
    "        gradients of nodes as listed in same order as input argument\n",
    "    \"\"\"\n",
    "    vis = set()\n",
    "    order[-1].gradient = 1\n",
    "    for node in reversed(order):\n",
    "        if isinstance(node, Operator):\n",
    "            inputs = node.inputs\n",
    "            grads = node.backward(*[x.value for x in inputs], dout=node.gradient)\n",
    "            for inp, grad in zip(inputs, grads):\n",
    "                if inp not in vis:\n",
    "                    inp.gradient = grad\n",
    "                else:\n",
    "                    inp.gradient += grad\n",
    "                vis.add(inp)\n",
    "    return [node.gradient for node in order]"
   ]
  },
  {
   "cell_type": "code",
   "execution_count": 14,
   "metadata": {},
   "outputs": [
    {
     "name": "stdout",
     "output_type": "stream",
     "text": [
      "Node ordering:\n",
      "Variable: name:x, value:0.9\n",
      "Variable: name:y, value:0.4\n",
      "Operator: name:mul/0\n",
      "Constant: name:c, value:1.3\n",
      "Operator: name:add/0\n",
      "Operator: name:mul/1\n",
      "Operator: name:add/1\n",
      "----------\n",
      "Forward pass expected: 3.0580000000000003\n",
      "Forward pass computed: 3.0580000000000003\n"
     ]
    }
   ],
   "source": [
    "val1, val2, val3 = 0.9, 0.4, 1.3\n",
    "\n",
    "with Graph() as g:\n",
    "    x = Variable(val1, name='x')\n",
    "    y = Variable(val2, name='y')\n",
    "    c = Constant(val3, name='c')\n",
    "    z = (x*y+c)*c + x\n",
    "\n",
    "    order = topological_sort(z)\n",
    "    res = forward_pass(order)\n",
    "    grads = backward_pass(order)\n",
    "\n",
    "    print(\"Node ordering:\")\n",
    "    for node in order:\n",
    "        print(node)\n",
    "\n",
    "    print('-'*10)\n",
    "    print(f\"Forward pass expected: {(val1*val2+val3)*val3+val1}\")\n",
    "    print(f\"Forward pass computed: {res}\")"
   ]
  },
  {
   "cell_type": "code",
   "execution_count": 15,
   "metadata": {},
   "outputs": [
    {
     "name": "stdout",
     "output_type": "stream",
     "text": [
      "dz/dx expected = 1.52\n",
      "dz/dx computed = 1.52\n",
      "dz/dy expected = 1.1700000000000002\n",
      "dz/dy computed = 1.1700000000000002\n",
      "dz/dc expected = 2.96\n",
      "dz/dc computed = 2.96\n"
     ]
    }
   ],
   "source": [
    "dzdx_node = [a for a in order if a.name=='x'][0]\n",
    "dzdy_node = [a for a in order if a.name=='y'][0]\n",
    "dzdc_node = [a for a in order if a.name=='c'][0]\n",
    "\n",
    "print(f\"dz/dx expected = {val3*val2+1}\")\n",
    "print(f\"dz/dx computed = {dzdx_node.gradient}\")\n",
    "\n",
    "print(f\"dz/dy expected = {val1*val3}\")\n",
    "print(f\"dz/dy computed = {dzdy_node.gradient}\")\n",
    "\n",
    "print(f\"dz/dc expected = {val1*val2+2*val3}\")\n",
    "print(f\"dz/dc computed = {dzdc_node.gradient}\")"
   ]
  },
  {
   "cell_type": "code",
   "execution_count": 15,
   "metadata": {},
   "outputs": [],
   "source": []
  },
  {
   "cell_type": "code",
   "execution_count": 16,
   "metadata": {},
   "outputs": [],
   "source": [
    "from graphviz import Digraph\n",
    "\n",
    "def make_graph(graph):\n",
    "    \"\"\"Allows us to visualize the computation graph directly in a Jupyter notebook.\n",
    "    must have graphviz module installed. Takes as input the topological sorted ordering\n",
    "    after calling the Session class\"\"\"\n",
    "    f = Digraph()\n",
    "    f.attr(rankdir='LR', size='10, 8')\n",
    "    f.attr('node', shape='circle')\n",
    "    for node in graph:\n",
    "        shape = 'box' if isinstance(node, Placeholder) else 'circle'\n",
    "        f.node(node.name, label=node.name.split('/')[0], shape=shape)\n",
    "    for node in graph:\n",
    "        if isinstance(node, Operator):\n",
    "            for e in node.inputs:\n",
    "                f.edge(e.name, node.name, label=e.name)\n",
    "    return f"
   ]
  },
  {
   "cell_type": "markdown",
   "metadata": {},
   "source": [
    "### Here's the slightly more complicated graph towards the end of the article"
   ]
  },
  {
   "cell_type": "code",
   "execution_count": 17,
   "metadata": {},
   "outputs": [
    {
     "data": {
      "text/plain": "[Variable: name:x, value:0.9,\n Variable: name:y, value:0.4,\n Operator: name:mul/0,\n Constant: name:c, value:1.3,\n Operator: name:add/0,\n Operator: name:mul/1,\n Operator: name:add/1]"
     },
     "execution_count": 17,
     "metadata": {},
     "output_type": "execute_result"
    }
   ],
   "source": [
    "order"
   ]
  },
  {
   "cell_type": "code",
   "execution_count": 18,
   "metadata": {},
   "outputs": [
    {
     "data": {
      "image/svg+xml": "<?xml version=\"1.0\" encoding=\"UTF-8\" standalone=\"no\"?>\n<!DOCTYPE svg PUBLIC \"-//W3C//DTD SVG 1.1//EN\"\n \"http://www.w3.org/Graphics/SVG/1.1/DTD/svg11.dtd\">\n<!-- Generated by graphviz version 3.0.0 (20220226.1711)\n -->\n<!-- Pages: 1 -->\n<svg width=\"484pt\" height=\"156pt\"\n viewBox=\"0.00 0.00 483.98 156.00\" xmlns=\"http://www.w3.org/2000/svg\" xmlns:xlink=\"http://www.w3.org/1999/xlink\">\n<g id=\"graph0\" class=\"graph\" transform=\"scale(1 1) rotate(0) translate(4 152)\">\n<polygon fill=\"white\" stroke=\"transparent\" points=\"-4,4 -4,-152 479.98,-152 479.98,4 -4,4\"/>\n<!-- x -->\n<g id=\"node1\" class=\"node\">\n<title>x</title>\n<ellipse fill=\"none\" stroke=\"black\" cx=\"18\" cy=\"-126\" rx=\"18\" ry=\"18\"/>\n<text text-anchor=\"middle\" x=\"18\" y=\"-122.3\" font-family=\"Times New Roman,serif\" font-size=\"14.00\">x</text>\n</g>\n<!-- mul/0 -->\n<g id=\"node3\" class=\"node\">\n<title>mul/0</title>\n<ellipse fill=\"none\" stroke=\"black\" cx=\"103.05\" cy=\"-81\" rx=\"24.1\" ry=\"24.1\"/>\n<text text-anchor=\"middle\" x=\"103.05\" y=\"-77.3\" font-family=\"Times New Roman,serif\" font-size=\"14.00\">mul</text>\n</g>\n<!-- x&#45;&gt;mul/0 -->\n<g id=\"edge1\" class=\"edge\">\n<title>x&#45;&gt;mul/0</title>\n<path fill=\"none\" stroke=\"black\" d=\"M33.42,-116.41C39.65,-112.41 47.09,-107.81 54,-104 59.63,-100.89 65.75,-97.78 71.68,-94.89\"/>\n<polygon fill=\"black\" stroke=\"black\" points=\"73.22,-98.03 80.73,-90.56 70.2,-91.71 73.22,-98.03\"/>\n<text text-anchor=\"middle\" x=\"57.5\" y=\"-107.8\" font-family=\"Times New Roman,serif\" font-size=\"14.00\">x</text>\n</g>\n<!-- add/1 -->\n<g id=\"node7\" class=\"node\">\n<title>add/1</title>\n<ellipse fill=\"none\" stroke=\"black\" cx=\"451.28\" cy=\"-103\" rx=\"24.9\" ry=\"24.9\"/>\n<text text-anchor=\"middle\" x=\"451.28\" y=\"-99.3\" font-family=\"Times New Roman,serif\" font-size=\"14.00\">add</text>\n</g>\n<!-- x&#45;&gt;add/1 -->\n<g id=\"edge8\" class=\"edge\">\n<title>x&#45;&gt;add/1</title>\n<path fill=\"none\" stroke=\"black\" d=\"M36.14,-128.29C52.91,-130.33 79.19,-133 102.05,-133 102.05,-133 102.05,-133 336.54,-133 365,-133 396.19,-124.11 418.7,-116.01\"/>\n<polygon fill=\"black\" stroke=\"black\" points=\"419.94,-119.28 428.08,-112.49 417.49,-112.72 419.94,-119.28\"/>\n<text text-anchor=\"middle\" x=\"218.79\" y=\"-136.8\" font-family=\"Times New Roman,serif\" font-size=\"14.00\">x</text>\n</g>\n<!-- y -->\n<g id=\"node2\" class=\"node\">\n<title>y</title>\n<ellipse fill=\"none\" stroke=\"black\" cx=\"18\" cy=\"-65\" rx=\"18\" ry=\"18\"/>\n<text text-anchor=\"middle\" x=\"18\" y=\"-61.3\" font-family=\"Times New Roman,serif\" font-size=\"14.00\">y</text>\n</g>\n<!-- y&#45;&gt;mul/0 -->\n<g id=\"edge2\" class=\"edge\">\n<title>y&#45;&gt;mul/0</title>\n<path fill=\"none\" stroke=\"black\" d=\"M36.3,-64.15C43.93,-64.1 52.97,-64.48 61,-66 64.28,-66.62 67.65,-67.47 70.97,-68.45\"/>\n<polygon fill=\"black\" stroke=\"black\" points=\"70.1,-71.85 80.69,-71.7 72.32,-65.21 70.1,-71.85\"/>\n<text text-anchor=\"middle\" x=\"57.5\" y=\"-69.8\" font-family=\"Times New Roman,serif\" font-size=\"14.00\">y</text>\n</g>\n<!-- add/0 -->\n<g id=\"node5\" class=\"node\">\n<title>add/0</title>\n<ellipse fill=\"none\" stroke=\"black\" cx=\"218.79\" cy=\"-71\" rx=\"24.9\" ry=\"24.9\"/>\n<text text-anchor=\"middle\" x=\"218.79\" y=\"-67.3\" font-family=\"Times New Roman,serif\" font-size=\"14.00\">add</text>\n</g>\n<!-- mul/0&#45;&gt;add/0 -->\n<g id=\"edge3\" class=\"edge\">\n<title>mul/0&#45;&gt;add/0</title>\n<path fill=\"none\" stroke=\"black\" d=\"M127.07,-78.98C143.42,-77.54 165.65,-75.58 184.01,-73.97\"/>\n<polygon fill=\"black\" stroke=\"black\" points=\"184.37,-77.45 194.03,-73.09 183.76,-70.48 184.37,-77.45\"/>\n<text text-anchor=\"middle\" x=\"160.6\" y=\"-80.8\" font-family=\"Times New Roman,serif\" font-size=\"14.00\">mul/0</text>\n</g>\n<!-- c -->\n<g id=\"node4\" class=\"node\">\n<title>c</title>\n<ellipse fill=\"none\" stroke=\"black\" cx=\"103.05\" cy=\"-18\" rx=\"18\" ry=\"18\"/>\n<text text-anchor=\"middle\" x=\"103.05\" y=\"-14.3\" font-family=\"Times New Roman,serif\" font-size=\"14.00\">c</text>\n</g>\n<!-- c&#45;&gt;add/0 -->\n<g id=\"edge4\" class=\"edge\">\n<title>c&#45;&gt;add/0</title>\n<path fill=\"none\" stroke=\"black\" d=\"M119.86,-25.37C137.09,-33.4 165.08,-46.44 186.74,-56.53\"/>\n<polygon fill=\"black\" stroke=\"black\" points=\"185.34,-59.74 195.88,-60.79 188.29,-53.39 185.34,-59.74\"/>\n<text text-anchor=\"middle\" x=\"160.6\" y=\"-54.8\" font-family=\"Times New Roman,serif\" font-size=\"14.00\">c</text>\n</g>\n<!-- mul/1 -->\n<g id=\"node6\" class=\"node\">\n<title>mul/1</title>\n<ellipse fill=\"none\" stroke=\"black\" cx=\"335.54\" cy=\"-71\" rx=\"24.1\" ry=\"24.1\"/>\n<text text-anchor=\"middle\" x=\"335.54\" y=\"-67.3\" font-family=\"Times New Roman,serif\" font-size=\"14.00\">mul</text>\n</g>\n<!-- c&#45;&gt;mul/1 -->\n<g id=\"edge6\" class=\"edge\">\n<title>c&#45;&gt;mul/1</title>\n<path fill=\"none\" stroke=\"black\" d=\"M121.15,-16C147.82,-13.43 200.67,-10.55 243.49,-22 266.23,-28.08 289.57,-40.79 306.92,-51.74\"/>\n<polygon fill=\"black\" stroke=\"black\" points=\"305.12,-54.75 315.41,-57.26 308.94,-48.88 305.12,-54.75\"/>\n<text text-anchor=\"middle\" x=\"218.79\" y=\"-25.8\" font-family=\"Times New Roman,serif\" font-size=\"14.00\">c</text>\n</g>\n<!-- add/0&#45;&gt;mul/1 -->\n<g id=\"edge5\" class=\"edge\">\n<title>add/0&#45;&gt;mul/1</title>\n<path fill=\"none\" stroke=\"black\" d=\"M243.57,-71C260.22,-71 282.7,-71 301.14,-71\"/>\n<polygon fill=\"black\" stroke=\"black\" points=\"301.19,-74.5 311.19,-71 301.19,-67.5 301.19,-74.5\"/>\n<text text-anchor=\"middle\" x=\"277.49\" y=\"-74.8\" font-family=\"Times New Roman,serif\" font-size=\"14.00\">add/0</text>\n</g>\n<!-- mul/1&#45;&gt;add/1 -->\n<g id=\"edge7\" class=\"edge\">\n<title>mul/1&#45;&gt;add/1</title>\n<path fill=\"none\" stroke=\"black\" d=\"M359.01,-77.32C375.7,-82.02 398.71,-88.49 417.45,-93.76\"/>\n<polygon fill=\"black\" stroke=\"black\" points=\"416.5,-97.13 427.08,-96.47 418.4,-90.39 416.5,-97.13\"/>\n<text text-anchor=\"middle\" x=\"393.09\" y=\"-93.8\" font-family=\"Times New Roman,serif\" font-size=\"14.00\">mul/1</text>\n</g>\n</g>\n</svg>\n",
      "text/plain": "<graphviz.graphs.Digraph at 0x297ffe7ed60>"
     },
     "execution_count": 18,
     "metadata": {},
     "output_type": "execute_result"
    }
   ],
   "source": [
    "my_graph = make_graph(order)\n",
    "my_graph"
   ]
  },
  {
   "cell_type": "markdown",
   "metadata": {},
   "source": [
    "### Here's the simple graph at the start of the article"
   ]
  },
  {
   "cell_type": "code",
   "execution_count": 19,
   "metadata": {},
   "outputs": [],
   "source": [
    "with Graph() as g:\n",
    "    x = Variable(1., name='x')\n",
    "    y = Variable(2., name='y')\n",
    "    z = Variable(3., name='z')\n",
    "    loss = x*y+z"
   ]
  },
  {
   "cell_type": "code",
   "execution_count": 20,
   "metadata": {},
   "outputs": [],
   "source": [
    "ordering = topological_sort(loss)"
   ]
  },
  {
   "cell_type": "code",
   "execution_count": 21,
   "metadata": {},
   "outputs": [
    {
     "data": {
      "image/svg+xml": "<?xml version=\"1.0\" encoding=\"UTF-8\" standalone=\"no\"?>\n<!DOCTYPE svg PUBLIC \"-//W3C//DTD SVG 1.1//EN\"\n \"http://www.w3.org/Graphics/SVG/1.1/DTD/svg11.dtd\">\n<!-- Generated by graphviz version 3.0.0 (20220226.1711)\n -->\n<!-- Pages: 1 -->\n<svg width=\"251pt\" height=\"131pt\"\n viewBox=\"0.00 0.00 251.49 131.00\" xmlns=\"http://www.w3.org/2000/svg\" xmlns:xlink=\"http://www.w3.org/1999/xlink\">\n<g id=\"graph0\" class=\"graph\" transform=\"scale(1 1) rotate(0) translate(4 127)\">\n<polygon fill=\"white\" stroke=\"transparent\" points=\"-4,4 -4,-127 247.49,-127 247.49,4 -4,4\"/>\n<!-- x -->\n<g id=\"node1\" class=\"node\">\n<title>x</title>\n<ellipse fill=\"none\" stroke=\"black\" cx=\"18\" cy=\"-105\" rx=\"18\" ry=\"18\"/>\n<text text-anchor=\"middle\" x=\"18\" y=\"-101.3\" font-family=\"Times New Roman,serif\" font-size=\"14.00\">x</text>\n</g>\n<!-- mul/0 -->\n<g id=\"node3\" class=\"node\">\n<title>mul/0</title>\n<ellipse fill=\"none\" stroke=\"black\" cx=\"103.05\" cy=\"-78\" rx=\"24.1\" ry=\"24.1\"/>\n<text text-anchor=\"middle\" x=\"103.05\" y=\"-74.3\" font-family=\"Times New Roman,serif\" font-size=\"14.00\">mul</text>\n</g>\n<!-- x&#45;&gt;mul/0 -->\n<g id=\"edge1\" class=\"edge\">\n<title>x&#45;&gt;mul/0</title>\n<path fill=\"none\" stroke=\"black\" d=\"M35.41,-99.67C45.38,-96.42 58.45,-92.18 70.36,-88.3\"/>\n<polygon fill=\"black\" stroke=\"black\" points=\"71.58,-91.58 80.01,-85.16 69.42,-84.93 71.58,-91.58\"/>\n<text text-anchor=\"middle\" x=\"57.5\" y=\"-96.8\" font-family=\"Times New Roman,serif\" font-size=\"14.00\">x</text>\n</g>\n<!-- y -->\n<g id=\"node2\" class=\"node\">\n<title>y</title>\n<ellipse fill=\"none\" stroke=\"black\" cx=\"18\" cy=\"-51\" rx=\"18\" ry=\"18\"/>\n<text text-anchor=\"middle\" x=\"18\" y=\"-47.3\" font-family=\"Times New Roman,serif\" font-size=\"14.00\">y</text>\n</g>\n<!-- y&#45;&gt;mul/0 -->\n<g id=\"edge2\" class=\"edge\">\n<title>y&#45;&gt;mul/0</title>\n<path fill=\"none\" stroke=\"black\" d=\"M35.41,-56.33C45.38,-59.58 58.45,-63.82 70.36,-67.7\"/>\n<polygon fill=\"black\" stroke=\"black\" points=\"69.42,-71.07 80.01,-70.84 71.58,-64.42 69.42,-71.07\"/>\n<text text-anchor=\"middle\" x=\"57.5\" y=\"-67.8\" font-family=\"Times New Roman,serif\" font-size=\"14.00\">y</text>\n</g>\n<!-- add/0 -->\n<g id=\"node5\" class=\"node\">\n<title>add/0</title>\n<ellipse fill=\"none\" stroke=\"black\" cx=\"218.79\" cy=\"-37\" rx=\"24.9\" ry=\"24.9\"/>\n<text text-anchor=\"middle\" x=\"218.79\" y=\"-33.3\" font-family=\"Times New Roman,serif\" font-size=\"14.00\">add</text>\n</g>\n<!-- mul/0&#45;&gt;add/0 -->\n<g id=\"edge3\" class=\"edge\">\n<title>mul/0&#45;&gt;add/0</title>\n<path fill=\"none\" stroke=\"black\" d=\"M125.98,-70.09C142.91,-63.99 166.59,-55.46 185.66,-48.58\"/>\n<polygon fill=\"black\" stroke=\"black\" points=\"186.93,-51.85 195.15,-45.16 184.56,-45.26 186.93,-51.85\"/>\n<text text-anchor=\"middle\" x=\"160.6\" y=\"-65.8\" font-family=\"Times New Roman,serif\" font-size=\"14.00\">mul/0</text>\n</g>\n<!-- z -->\n<g id=\"node4\" class=\"node\">\n<title>z</title>\n<ellipse fill=\"none\" stroke=\"black\" cx=\"103.05\" cy=\"-18\" rx=\"18\" ry=\"18\"/>\n<text text-anchor=\"middle\" x=\"103.05\" y=\"-14.3\" font-family=\"Times New Roman,serif\" font-size=\"14.00\">z</text>\n</g>\n<!-- z&#45;&gt;add/0 -->\n<g id=\"edge4\" class=\"edge\">\n<title>z&#45;&gt;add/0</title>\n<path fill=\"none\" stroke=\"black\" d=\"M120.94,-20.81C135.54,-23.23 157.21,-26.84 176.1,-30 178.63,-30.42 181.25,-30.86 183.89,-31.3\"/>\n<polygon fill=\"black\" stroke=\"black\" points=\"183.54,-34.79 193.98,-33 184.7,-27.89 183.54,-34.79\"/>\n<text text-anchor=\"middle\" x=\"160.6\" y=\"-33.8\" font-family=\"Times New Roman,serif\" font-size=\"14.00\">z</text>\n</g>\n</g>\n</svg>\n",
      "text/plain": "<graphviz.graphs.Digraph at 0x297fc9ee700>"
     },
     "execution_count": 21,
     "metadata": {},
     "output_type": "execute_result"
    }
   ],
   "source": [
    "my_graph = make_graph(ordering)\n",
    "my_graph"
   ]
  }
 ],
 "metadata": {
  "kernelspec": {
   "display_name": "Python 3",
   "language": "python",
   "name": "python3"
  },
  "language_info": {
   "codemirror_mode": {
    "name": "ipython",
    "version": 3
   },
   "file_extension": ".py",
   "mimetype": "text/x-python",
   "name": "python",
   "nbconvert_exporter": "python",
   "pygments_lexer": "ipython3",
   "version": "3.8.3"
  }
 },
 "nbformat": 4,
 "nbformat_minor": 4
}